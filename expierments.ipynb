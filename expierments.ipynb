{
 "cells": [
  {
   "cell_type": "code",
   "execution_count": 4,
   "id": "9b95dd97-0f37-487b-816e-38bd1b98533c",
   "metadata": {},
   "outputs": [
    {
     "name": "stdout",
     "output_type": "stream",
     "text": [
      "    timestamp      open      high       low     close       volume\n",
      "0  2024-08-09  56585.82  56593.13  56242.54  56497.73     5.500799\n",
      "1  2024-08-08  50512.15  57499.00  50129.82  56563.20   461.426922\n",
      "2  2024-08-07  51369.66  52950.00  50010.13  50495.77   549.410474\n",
      "3  2024-08-06  49417.12  52299.98  49371.86  51374.96   963.933432\n",
      "4  2024-08-05  53330.01  53448.81  45021.36  49408.05  3196.637071\n"
     ]
    }
   ],
   "source": [
    "import requests\n",
    "import pandas as pd\n",
    "import io\n",
    "\n",
    "# replace the \"demo\" apikey below with your own key from https://www.alphavantage.co/support/#api-key\n",
    "url = 'https://www.alphavantage.co/query?function=DIGITAL_CURRENCY_DAILY&symbol=BTC&market=EUR&apikey=demo&datatype=csv'\n",
    "r = requests.get(url)\n",
    "\n",
    "# Check if the request was successful\n",
    "if r.status_code == 200:\n",
    "    # Directly convert the CSV content to a pandas DataFrame\n",
    "    data = pd.read_csv(io.StringIO(r.text))\n",
    "    \n",
    "    # Example: Display the first few rows of the DataFrame\n",
    "    print(data.head())\n",
    "else:\n",
    "    print(\"Failed to retrieve data. Status code:\", r.status_code)"
   ]
  },
  {
   "cell_type": "code",
   "execution_count": 5,
   "id": "ed1fa6ee-7500-45b4-be20-073a2250c04f",
   "metadata": {},
   "outputs": [
    {
     "name": "stdout",
     "output_type": "stream",
     "text": [
      "{'Information': 'The **demo** API key is for demo purposes only. Please claim your free API key at (https://www.alphavantage.co/support/#api-key) to explore our full API offerings. It takes fewer than 20 seconds.'}\n"
     ]
    }
   ],
   "source": [
    "import requests\n",
    "\n",
    "# replace the \"demo\" apikey below with your own key from https://www.alphavantage.co/support/#api-key\n",
    "url = 'https://www.alphavantage.co/query'\n",
    "\n",
    "parameters = {\n",
    "  'function':'NEWS_SENTIMENT',\n",
    "  'ticker':'BTC',\n",
    "  'apikey':'demo'\n",
    "}\n",
    "r = requests.get(url, params = parameters)\n",
    "data = r.json()\n",
    "\n",
    "print(data)"
   ]
  },
  {
   "cell_type": "code",
   "execution_count": 6,
   "id": "d45e214f-a0b0-47b5-84a6-b7e87d7396fe",
   "metadata": {},
   "outputs": [],
   "source": [
    "import requests\n",
    "import pprint\n",
    "from io import StringIO\n",
    "\n",
    "# replace the \"demo\" apikey below with your own key from https://www.alphavantage.co/support/#api-key\n",
    "url = 'https://www.alphavantage.co/query?function=NEWS_SENTIMENT&tickers=AAPL&apikey=demo'\n",
    "r = requests.get(url)\n",
    "data = r.json()\n",
    "\n",
    "# pprint.pp(data)\n",
    "# Capture the output of pprint into a string\n",
    "# output = StringIO()\n",
    "# pprint.pp(data, stream=output)\n",
    "# output_str = output.getvalue()\n",
    "\n",
    "# # Limit the output to a certain number of characters\n",
    "# char_limit = 500  # Set your desired character limit here\n",
    "# limited_output = output_str[:char_limit]\n",
    "\n",
    "# print(limited_output)"
   ]
  },
  {
   "cell_type": "code",
   "execution_count": 7,
   "id": "dbad16d3-c410-458a-b1ad-ea3aa891d064",
   "metadata": {},
   "outputs": [
    {
     "data": {
      "text/plain": [
       "dict"
      ]
     },
     "execution_count": 7,
     "metadata": {},
     "output_type": "execute_result"
    }
   ],
   "source": [
    "type(data)"
   ]
  },
  {
   "cell_type": "code",
   "execution_count": 8,
   "id": "76368362-1672-44c2-a707-e5ffb1887fe5",
   "metadata": {},
   "outputs": [
    {
     "data": {
      "text/plain": [
       "dict_keys(['items', 'sentiment_score_definition', 'relevance_score_definition', 'feed'])"
      ]
     },
     "execution_count": 8,
     "metadata": {},
     "output_type": "execute_result"
    }
   ],
   "source": [
    "data.keys()"
   ]
  },
  {
   "cell_type": "code",
   "execution_count": 9,
   "id": "5e539e91-bf9e-477d-af94-a3ec8aa949ed",
   "metadata": {},
   "outputs": [
    {
     "name": "stdout",
     "output_type": "stream",
     "text": [
      "{'title': 'Meta CEO Mark Zuckerberg Owns Two Of The Biggest Social Media '\n",
      "          'Platforms In The World. He Now Thinks This Experience On Phones Is '\n",
      "          \"'Anti-Social,' And Why He's Focused On Ray-Ban Smart Glasses - \"\n",
      "          'Apple  ( NASDAQ:AAPL ) , Essilorluxottica  ( OTC:ESLOY ) ',\n",
      " 'url': 'https://www.benzinga.com/markets/equities/24/08/40275791/meta-ceo-mark-zuckerberg-owns-two-of-the-biggest-social-media-platforms-in-the-world-he-now-thin',\n",
      " 'time_published': '20240809T054029',\n",
      " 'authors': ['Benzinga Neuro'],\n",
      " 'summary': 'Mark Zuckerberg, the CEO of Meta Platforms Inc. META, '\n",
      "            'acknowledged that the current social media experience on '\n",
      "            'smartphones is \"anti-social.\" This revelation is part of the '\n",
      "            'reason why he is focusing on the development of Ray-Ban smart '\n",
      "            'glasses.',\n",
      " 'banner_image': 'https://cdn.benzinga.com/files/images/story/2024/08/09/Mark-Zuckerberg-Meta-Ray-Ban-glasses.jpeg?width=1200&height=800&fit=crop',\n",
      " 'source': 'Benzinga',\n",
      " 'category_within_source': 'Markets',\n",
      " 'source_domain': 'www.benzinga.com',\n",
      " 'topics': [{'topic': 'Technology', 'relevance_score': '1.0'}],\n",
      " 'overall_sentiment_score': 0.271515,\n",
      " 'overall_sentiment_label': 'Somewhat-Bullish',\n",
      " 'ticker_sentiment': [{'ticker': 'GOOG',\n",
      "                       'relevance_score': '0.181137',\n",
      "                       'ticker_sentiment_score': '0.308845',\n",
      "                       'ticker_sentiment_label': 'Somewhat-Bullish'},\n",
      "                      {'ticker': 'META',\n",
      "                       'relevance_score': '0.268786',\n",
      "                       'ticker_sentiment_score': '0.210337',\n",
      "                       'ticker_sentiment_label': 'Somewhat-Bullish'},\n",
      "                      {'ticker': 'AAPL',\n",
      "                       'relevance_score': '0.268786',\n",
      "                       'ticker_sentiment_score': '0.049021',\n",
      "                       'ticker_sentiment_label': 'Neutral'},\n",
      "                      {'ticker': 'ESLOF',\n",
      "                       'relevance_score': '0.181137',\n",
      "                       'ticker_sentiment_score': '0.252236',\n",
      "                       'ticker_sentiment_label': 'Somewhat-Bullish'}]}\n"
     ]
    }
   ],
   "source": [
    "num = 0\n",
    "for i in data['feed']:\n",
    "    if num == 0:\n",
    "        pprint.pp(i)\n",
    "        num += 1"
   ]
  },
  {
   "cell_type": "code",
   "execution_count": 10,
   "id": "d11296c4-cce0-4c21-8ccb-151440e78f99",
   "metadata": {},
   "outputs": [
    {
     "name": "stderr",
     "output_type": "stream",
     "text": [
      "/Library/Frameworks/Python.framework/Versions/3.10/lib/python3.10/site-packages/transformers/utils/generic.py:311: FutureWarning: `torch.utils._pytree._register_pytree_node` is deprecated. Please use `torch.utils._pytree.register_pytree_node` instead.\n",
      "  torch.utils._pytree._register_pytree_node(\n",
      "/Library/Frameworks/Python.framework/Versions/3.10/lib/python3.10/site-packages/huggingface_hub/file_download.py:1150: FutureWarning: `resume_download` is deprecated and will be removed in version 1.0.0. Downloads always resume when possible. If you want to force a new download, use `force_download=True`.\n",
      "  warnings.warn(\n",
      "/Library/Frameworks/Python.framework/Versions/3.10/lib/python3.10/site-packages/huggingface_hub/file_download.py:1150: FutureWarning: `resume_download` is deprecated and will be removed in version 1.0.0. Downloads always resume when possible. If you want to force a new download, use `force_download=True`.\n",
      "  warnings.warn(\n"
     ]
    },
    {
     "name": "stdout",
     "output_type": "stream",
     "text": [
      "340\n",
      "10\n",
      "range(340, 350)\n"
     ]
    },
    {
     "data": {
      "image/png": "[encoded data removed]",
      "text/plain": [
       "<Figure size 576x288 with 1 Axes>"
      ]
     },
     "metadata": {
      "needs_background": "light"
     },
     "output_type": "display_data"
    }
   ],
   "source": [
    "import matplotlib.pyplot as plt\n",
    "import numpy as np\n",
    "import pandas as pd\n",
    "import torch\n",
    "from chronos import ChronosPipeline\n",
    "\n",
    "pipeline = ChronosPipeline.from_pretrained(\n",
    "  \"amazon/chronos-t5-base\",\n",
    "  device_map=\"auto\",\n",
    "  torch_dtype=torch.bfloat16,\n",
    ")\n",
    "\n",
    "df = pd.read_csv(\"currency_daily_BTC_EUR (2).csv\")\n",
    "\n",
    "prediction_length = 10\n",
    "header = \"high\"\n",
    "# context must be either a 1D tensor, a list of 1D tensors,\n",
    "# or a left-padded 2D tensor with batch as the first dimension\n",
    "bonudary = len(df)-prediction_length\n",
    "context = torch.tensor(df[header][:bonudary]) \n",
    "forecast = pipeline.predict(context, prediction_length)  # shape [num_series, num_samples, prediction_length]\n",
    "\n",
    "# # visualize the forecast\n",
    "# forecast_index = range(len(df)-const, len(df)-const + prediction_length)\n",
    "forecast_index = range(len(df)-prediction_length, len(df))\n",
    "\n",
    "low, median, high = np.quantile(forecast[0].numpy(), [0.1, 0.5, 0.9], axis=0)\n",
    "\n",
    "print(len(df[header][:bonudary]))\n",
    "print(len(median))\n",
    "print(forecast_index)\n",
    "plt.figure(figsize=(8, 4))\n",
    "plt.plot(df[header], color=\"royalblue\", label=\"historical data\")\n",
    "plt.plot(forecast_index, median, color=\"tomato\", label=\"median forecast\")\n",
    "plt.fill_between(forecast_index, low, high, color=\"tomato\", alpha=0.3, label=\"80% prediction interval\")\n",
    "plt.legend()\n",
    "plt.grid()\n",
    "plt.show()\n"
   ]
  },
  {
   "cell_type": "code",
   "execution_count": 11,
   "id": "483899f9-0e09-4c45-ae87-a236dbe14a9f",
   "metadata": {},
   "outputs": [
    {
     "data": {
      "text/plain": [
       "340"
      ]
     },
     "execution_count": 11,
     "metadata": {},
     "output_type": "execute_result"
    }
   ],
   "source": [
    "len(df[header][:bonudary])"
   ]
  },
  {
   "cell_type": "code",
   "execution_count": 12,
   "id": "b607a3a9-85eb-46dd-bb11-8ca7f5dde9b4",
   "metadata": {},
   "outputs": [
    {
     "data": {
      "text/plain": [
       "10"
      ]
     },
     "execution_count": 12,
     "metadata": {},
     "output_type": "execute_result"
    }
   ],
   "source": [
    "low, median, high = np.quantile(forecast[0].numpy(), [0.1, 0.5, 0.9], axis=0)\n",
    "len(low)"
   ]
  },
  {
   "cell_type": "code",
   "execution_count": 13,
   "id": "f6bd5f54-ff4e-4b9a-bcc5-61df943750b8",
   "metadata": {},
   "outputs": [
    {
     "data": {
      "text/plain": [
       "350"
      ]
     },
     "execution_count": 13,
     "metadata": {},
     "output_type": "execute_result"
    }
   ],
   "source": [
    "len(df[header][:bonudary]) + len(low)"
   ]
  },
  {
   "cell_type": "code",
   "execution_count": 14,
   "id": "d65b17aa-c573-4b5a-8d48-d86f07eee303",
   "metadata": {},
   "outputs": [
    {
     "data": {
      "text/plain": [
       "340    24182.27\n",
       "341    24238.03\n",
       "342    24117.82\n",
       "343    24110.45\n",
       "344    25363.76\n",
       "345    25529.56\n",
       "346    25955.15\n",
       "347    24261.01\n",
       "348    24253.67\n",
       "349    24192.94\n",
       "Name: high, dtype: float64"
      ]
     },
     "execution_count": 14,
     "metadata": {},
     "output_type": "execute_result"
    }
   ],
   "source": [
    "df[header][bonudary:]"
   ]
  },
  {
   "cell_type": "code",
   "execution_count": 15,
   "id": "a26071a8-a139-4c45-9d71-90c9fe6f7c7d",
   "metadata": {},
   "outputs": [
    {
     "name": "stdout",
     "output_type": "stream",
     "text": [
      "340: 23252.102094101007\n",
      "341: 23252.102094101007\n",
      "342: 22899.263116903763\n",
      "343: 22934.547143710864\n",
      "344: 22934.547143710864\n",
      "345: 22581.706875639837\n",
      "346: 22228.86804187301\n",
      "347: 21876.02920810619\n",
      "348: 21487.90649096268\n",
      "349: 21840.745324729505\n"
     ]
    }
   ],
   "source": [
    "row = 340\n",
    "for i in low:\n",
    "    \n",
    "    print(f\"{row}: {i}\")\n",
    "    row +=1"
   ]
  },
  {
   "cell_type": "code",
   "execution_count": 16,
   "id": "f1375f8e-be92-41cf-a46a-7f04d5c7656e",
   "metadata": {},
   "outputs": [
    {
     "name": "stdout",
     "output_type": "stream",
     "text": [
      "340 23640.22\n",
      "341 23640.22\n",
      "342 23640.22\n",
      "343 23287.39\n",
      "344 23640.22\n",
      "345 23640.22\n",
      "346 23463.81\n",
      "347 23110.97\n",
      "348 23287.39\n",
      "349 23287.39\n"
     ]
    }
   ],
   "source": [
    "const = prediction_length\n",
    "row = len(df) - const\n",
    "for i in median:\n",
    "    print(f\"{row} {i:.2f}\")\n",
    "    row += 1"
   ]
  },
  {
   "cell_type": "code",
   "execution_count": 17,
   "id": "d2dbc2d9-519c-4175-8275-b6afd8aa15e6",
   "metadata": {},
   "outputs": [
    {
     "data": {
      "text/plain": [
       "339    24153.16\n",
       "340    24182.27\n",
       "341    24238.03\n",
       "342    24117.82\n",
       "343    24110.45\n",
       "344    25363.76\n",
       "345    25529.56\n",
       "346    25955.15\n",
       "347    24261.01\n",
       "348    24253.67\n",
       "349    24192.94\n",
       "Name: high, dtype: float64"
      ]
     },
     "execution_count": 17,
     "metadata": {},
     "output_type": "execute_result"
    }
   ],
   "source": [
    "df[header][349 - const:]"
   ]
  },
  {
   "cell_type": "code",
   "execution_count": 18,
   "id": "7c56b731-f48a-4978-878b-9ce762a02858",
   "metadata": {},
   "outputs": [
    {
     "name": "stdout",
     "output_type": "stream",
     "text": [
      "3.662291832819215\n",
      "2.2928935451479284\n",
      "2.5287627064829596\n",
      "2.020265004114152\n",
      "3.4816251922055272\n",
      "7.290688656800251\n",
      "7.992035625045409\n",
      "10.538582545348248\n",
      "4.864773700708206\n",
      "4.087456994328977\n",
      "3.830564344259451\n"
     ]
    }
   ],
   "source": [
    "test = df[header][349 - const:]\n",
    "err_ls = []\n",
    "for num in range(len(test)):\n",
    "    error_rate = (test.iloc[num] - median[num - 1]) / median[0] * 100\n",
    "    err_ls.append(error_rate)\n",
    "    print(error_rate)"
   ]
  },
  {
   "cell_type": "code",
   "execution_count": 19,
   "id": "5c598142-9d11-4693-aace-69b6e00c45dd",
   "metadata": {},
   "outputs": [
    {
     "data": {
      "text/plain": [
       "4.056580634529754"
      ]
     },
     "execution_count": 19,
     "metadata": {},
     "output_type": "execute_result"
    }
   ],
   "source": [
    "err_ls.pop(len(err_ls)-4)\n",
    "for elem in err_ls:\n",
    "    nums = 0 \n",
    "    nums += elem\n",
    "nums / len(err_ls) * 100 \n",
    "\n",
    "import statistics\n",
    "statistics.variance(err_ls)"
   ]
  },
  {
   "cell_type": "code",
   "execution_count": null,
   "id": "d7d99daa-7fb9-45a7-af57-20a4e275fe23",
   "metadata": {},
   "outputs": [],
   "source": []
  },
  {
   "cell_type": "code",
   "execution_count": 20,
   "id": "f96d7d9d-822e-4d10-9c4b-d0349c62a1a7",
   "metadata": {},
   "outputs": [
    {
     "name": "stderr",
     "output_type": "stream",
     "text": [
      "/Library/Frameworks/Python.framework/Versions/3.10/lib/python3.10/site-packages/huggingface_hub/file_download.py:1150: FutureWarning: `resume_download` is deprecated and will be removed in version 1.0.0. Downloads always resume when possible. If you want to force a new download, use `force_download=True`.\n",
      "  warnings.warn(\n"
     ]
    },
    {
     "data": {
      "image/png": "[encoded data removed]",
      "text/plain": [
       "<Figure size 576x288 with 1 Axes>"
      ]
     },
     "metadata": {
      "needs_background": "light"
     },
     "output_type": "display_data"
    }
   ],
   "source": [
    "import matplotlib.pyplot as plt\n",
    "import numpy as np\n",
    "import pandas as pd\n",
    "import torch\n",
    "from chronos import ChronosPipeline\n",
    "\n",
    "pipeline = ChronosPipeline.from_pretrained(\n",
    "  \"amazon/chronos-t5-base\",\n",
    "  device_map=\"auto\",\n",
    "  torch_dtype=torch.bfloat16,\n",
    ")\n",
    "\n",
    "df = pd.read_csv(\"currency_daily_BTC_EUR (2).csv\")\n",
    "\n",
    "# context must be either a 1D tensor, a list of 1D tensors,\n",
    "# or a left-padded 2D tensor with batch as the first dimension\n",
    "context = torch.tensor(df[\"high\"])\n",
    "prediction_length = 12\n",
    "forecast = pipeline.predict(context, prediction_length)  # shape [num_series, num_samples, prediction_length]\n",
    "\n",
    "# visualize the forecast\n",
    "forecast_index = range(len(df), len(df) + prediction_length)\n",
    "low, median, high = np.quantile(forecast[0].numpy(), [0.1, 0.5, 0.9], axis=0)\n",
    "\n",
    "plt.figure(figsize=(8, 4))\n",
    "plt.plot(df[\"high\"], color=\"royalblue\", label=\"historical data\")\n",
    "plt.plot(forecast_index, median, color=\"tomato\", label=\"median forecast\")\n",
    "plt.fill_between(forecast_index, low, high, color=\"tomato\", alpha=0.3, label=\"80% prediction interval\")\n",
    "plt.legend()\n",
    "plt.grid()\n",
    "plt.show()\n"
   ]
  },
  {
   "cell_type": "code",
   "execution_count": 21,
   "id": "b00b2812-4d60-4b08-bb28-023052587353",
   "metadata": {},
   "outputs": [],
   "source": [
    "def guard(type):\n",
    "    if type not in MODEL_TYPES.keys():\n",
    "        raise ValueError(f\"Invalid input: '{type}'. Must be one of {MODEL_TYPES.keys()}\")\n",
    "    return True"
   ]
  },
  {
   "cell_type": "code",
   "execution_count": 22,
   "id": "872f27c2-29e9-45fd-af6b-a8568f5adfde",
   "metadata": {},
   "outputs": [
    {
     "data": {
      "text/plain": [
       "-2"
      ]
     },
     "execution_count": 22,
     "metadata": {},
     "output_type": "execute_result"
    }
   ],
   "source": [
    "lsp = [1,2,3]\n",
    "lsp[0] - lsp[-1]"
   ]
  },
  {
   "cell_type": "code",
   "execution_count": null,
   "id": "c6dfe8b1-08e5-42c8-9043-ce6aaf8ff2d9",
   "metadata": {},
   "outputs": [],
   "source": []
  },
  {
   "cell_type": "code",
   "execution_count": null,
   "id": "e24641a5-241c-40e6-b99e-a18575af6e57",
   "metadata": {},
   "outputs": [],
   "source": []
  },
  {
   "cell_type": "code",
   "execution_count": null,
   "id": "41fc47dd-1e11-46fd-8c88-8959dec64b6e",
   "metadata": {},
   "outputs": [],
   "source": []
  },
  {
   "cell_type": "code",
   "execution_count": null,
   "id": "9712c6fe-1dcf-42f4-9801-c05f14b8b650",
   "metadata": {},
   "outputs": [],
   "source": []
  },
  {
   "cell_type": "code",
   "execution_count": 23,
   "id": "2ddf8ef6-5f16-4c21-a330-d9c67836b914",
   "metadata": {},
   "outputs": [
    {
     "name": "stdout",
     "output_type": "stream",
     "text": [
      "340\n",
      "12\n",
      "range(350, 362)\n"
     ]
    }
   ],
   "source": [
    "######### import the necessary libraries\n",
    "########################################\n",
    "import matplotlib.pyplot as plt\n",
    "import numpy as np\n",
    "import pandas as pd\n",
    "import torch\n",
    "from chronos import ChronosPipeline\n",
    "\n",
    "\n",
    "# create the pipline\n",
    "# pipeline = ChronosPipeline.from_pretrained(\n",
    "#   \"amazon/chronos-t5-base\",\n",
    "#   device_map=\"auto\",\n",
    "#   torch_dtype=torch.bfloat16,\n",
    "# )\n",
    "\n",
    "\n",
    "class ChronosModel:\n",
    "    \"\"\" \n",
    "    a form of intializing chronos models that is very easy to initialize\n",
    "    \n",
    "    \n",
    "    \n",
    "    \n",
    "    \"\"\"\n",
    "    \n",
    "    # class constants \n",
    "    \n",
    "    MODEL_TYPES = {\"tiny\": \"amazon/chronos-t5-tiny\", \n",
    "                   \"mini\": \"amazon/chronos-t5-mini\", \n",
    "                   \"small\" : \"amazon/chronos-t5-small\", \n",
    "                   \"base\" : \"amazon/chronos-t5-base\", \n",
    "                   \"large\": \"amazon/chronos-t5-large\"}\n",
    "    \n",
    "    \n",
    "    \n",
    "    #############################################\n",
    "    def __init__(self, model: str, df, column, prediction_length: int, reserve: bool):\n",
    "        \n",
    "        if model not in self.MODEL_TYPES.keys():\n",
    "            raise ValueError(f\"Invalid input: '{type}'. Must be one of {MODEL_TYPES.keys()}\")\n",
    "        \n",
    "        self.model_type = self.MODEL_TYPES[model]\n",
    "        self.df = df\n",
    "        self.prediction_length = prediction_length\n",
    "        self.pipeline = ChronosPipeline.from_pretrained(\n",
    "            self.model_type,\n",
    "            device_map=\"auto\",\n",
    "            torch_dtype=torch.bfloat16,\n",
    "            )\n",
    "         \n",
    "        print(self.model_type)\n",
    "        if column not in df.columns:\n",
    "            raise ValueError(f\"{column} is not a column in the passed dataframe\")\n",
    "        \n",
    "        self.column = column\n",
    "        self.reserve = reserve\n",
    "        \n",
    "        \n",
    "    #############################################\n",
    "    def forecast(self):\n",
    "        if self.reserve == True:\n",
    "            boundary = len(df) - self.prediction_length\n",
    "            print(len(df[self.column][:bonudary]))\n",
    "            context = torch.tensor(df[self.column][:boundary])          \n",
    "        else:\n",
    "            context = torch.tensor(df[self.column])\n",
    "            print(len(df[self.column]))\n",
    "        \n",
    "        forecast = pipeline.predict(context, prediction_length)\n",
    "        \n",
    "        \n",
    "    \n",
    "    #############################################\n",
    "        \n",
    "    def visualize(self, quantile_list = [0.1, 0.5, 0.9]):\n",
    "        forecast_index = range(len(df)-prediction_length, len(df))\n",
    "\n",
    "        low, median, high = np.quantile(forecast[0].numpy(), quantile_list, axis=0)\n",
    "        print(len(median))\n",
    "        print(forecast_index)\n",
    "        plt.figure(figsize=(8, 4))\n",
    "        plt.plot(df[self.column], color=\"royalblue\", label=\"historical data\")\n",
    "        plt.plot(forecast_index, median, color=\"tomato\", label=\"median forecast\")\n",
    "        plt.fill_between(forecast_index, low, high, \n",
    "                         color=\"tomato\", \n",
    "                         alpha=0.3, \n",
    "                         label= f\"{(quantile_list[-1] - quantile_list[0])* 100}% prediction interval\")\n",
    "        plt.legend()\n",
    "        plt.grid()\n",
    "        plt.show()\n",
    "\n",
    "\n",
    "print(len(df[header][:bonudary]))\n",
    "print(len(median))\n",
    "print(forecast_index)"
   ]
  },
  {
   "cell_type": "code",
   "execution_count": 24,
   "id": "db81bb5e-f6eb-48a6-bc94-a9b50138b9fd",
   "metadata": {},
   "outputs": [],
   "source": [
    "df = pd.read_csv(\"currency_daily_BTC_EUR (2).csv\")\n",
    "\n",
    "# context must be either a 1D tensor, a list of 1D tensors,\n",
    "# or a left-padded 2D tensor with batch as the first dimension\n",
    "context = torch.tensor(df[\"high\"])\n",
    "prediction_length = 12"
   ]
  },
  {
   "cell_type": "code",
   "execution_count": 25,
   "id": "dacedfed-5cfc-4f1b-800e-d09ef9d5e146",
   "metadata": {},
   "outputs": [
    {
     "ename": "NameError",
     "evalue": "name 'MODEL_TYPES' is not defined",
     "output_type": "error",
     "traceback": [
      "\u001b[0;31m---------------------------------------------------------------------------\u001b[0m",
      "\u001b[0;31mNameError\u001b[0m                                 Traceback (most recent call last)",
      "Cell \u001b[0;32mIn [25], line 1\u001b[0m\n\u001b[0;32m----> 1\u001b[0m a1 \u001b[38;5;241m=\u001b[39m \u001b[43mChronosModel\u001b[49m\u001b[43m(\u001b[49m\u001b[38;5;124;43m\"\u001b[39;49m\u001b[38;5;124;43msmall\u001b[39;49m\u001b[38;5;124;43m\"\u001b[39;49m\u001b[43m,\u001b[49m\u001b[43m \u001b[49m\u001b[43mdf\u001b[49m\u001b[43m,\u001b[49m\u001b[43m \u001b[49m\u001b[38;5;124;43m\"\u001b[39;49m\u001b[38;5;124;43mhigh\u001b[39;49m\u001b[38;5;124;43m\"\u001b[39;49m\u001b[43m,\u001b[49m\u001b[43m \u001b[49m\u001b[38;5;241;43m4\u001b[39;49m\u001b[43m,\u001b[49m\u001b[43m \u001b[49m\u001b[38;5;28;43;01mTrue\u001b[39;49;00m\u001b[43m)\u001b[49m\n\u001b[1;32m      2\u001b[0m a1\u001b[38;5;241m.\u001b[39mforecast()\n",
      "Cell \u001b[0;32mIn [23], line 40\u001b[0m, in \u001b[0;36mChronosModel.__init__\u001b[0;34m(self, model, df, column, prediction_length, reserve)\u001b[0m\n\u001b[1;32m     38\u001b[0m \u001b[38;5;28;01mdef\u001b[39;00m \u001b[38;5;21m__init__\u001b[39m(\u001b[38;5;28mself\u001b[39m, model: \u001b[38;5;28mstr\u001b[39m, df, column, prediction_length: \u001b[38;5;28mint\u001b[39m, reserve: \u001b[38;5;28mbool\u001b[39m):\n\u001b[0;32m---> 40\u001b[0m     \u001b[38;5;28;01mif\u001b[39;00m model \u001b[38;5;129;01mnot\u001b[39;00m \u001b[38;5;129;01min\u001b[39;00m \u001b[43mMODEL_TYPES\u001b[49m\u001b[38;5;241m.\u001b[39mkeys():\n\u001b[1;32m     41\u001b[0m         \u001b[38;5;28;01mraise\u001b[39;00m \u001b[38;5;167;01mValueError\u001b[39;00m(\u001b[38;5;124mf\u001b[39m\u001b[38;5;124m\"\u001b[39m\u001b[38;5;124mInvalid input: \u001b[39m\u001b[38;5;124m'\u001b[39m\u001b[38;5;132;01m{\u001b[39;00m\u001b[38;5;28mtype\u001b[39m\u001b[38;5;132;01m}\u001b[39;00m\u001b[38;5;124m'\u001b[39m\u001b[38;5;124m. Must be one of \u001b[39m\u001b[38;5;132;01m{\u001b[39;00mMODEL_TYPES\u001b[38;5;241m.\u001b[39mkeys()\u001b[38;5;132;01m}\u001b[39;00m\u001b[38;5;124m\"\u001b[39m)\n\u001b[1;32m     43\u001b[0m     \u001b[38;5;28mself\u001b[39m\u001b[38;5;241m.\u001b[39mmodel_type \u001b[38;5;241m=\u001b[39m MODEL_TYPES[model]\n",
      "\u001b[0;31mNameError\u001b[0m: name 'MODEL_TYPES' is not defined"
     ]
    }
   ],
   "source": [
    "a1 = ChronosModel(\"small\", df, \"high\", 4, True)\n",
    "a1.forecast()"
   ]
  },
  {
   "cell_type": "code",
   "execution_count": null,
   "id": "001985ee-bc14-4290-88c1-ed25797c5f92",
   "metadata": {},
   "outputs": [],
   "source": [
    "a1.visualize()"
   ]
  },
  {
   "cell_type": "code",
   "execution_count": null,
   "id": "83cb34cf-6b0e-4bec-b777-bd8be739d548",
   "metadata": {},
   "outputs": [],
   "source": [
    "df.shape"
   ]
  },
  {
   "cell_type": "code",
   "execution_count": null,
   "id": "215f1161-246f-4f32-b925-52fae936c03f",
   "metadata": {},
   "outputs": [],
   "source": [
    "isinstance(df[\"high\"], pd.Series)"
   ]
  },
  {
   "cell_type": "code",
   "execution_count": null,
   "id": "9d11d93a-f4bd-4826-9daf-cdbe37996495",
   "metadata": {},
   "outputs": [],
   "source": [
    "df"
   ]
  },
  {
   "cell_type": "code",
   "execution_count": null,
   "id": "0b394410-b252-4717-ad9a-7387ecce6685",
   "metadata": {},
   "outputs": [],
   "source": []
  }
 ],
 "metadata": {
  "kernelspec": {
   "display_name": "Python 3 (ipykernel)",
   "language": "python",
   "name": "python3"
  },
  "language_info": {
   "codemirror_mode": {
    "name": "ipython",
    "version": 3
   },
   "file_extension": ".py",
   "mimetype": "text/x-python",
   "name": "python",
   "nbconvert_exporter": "python",
   "pygments_lexer": "ipython3",
   "version": "3.10.1"
  }
 },
 "nbformat": 4,
 "nbformat_minor": 5
}
